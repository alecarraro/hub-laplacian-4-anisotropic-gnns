{
 "cells": [
  {
   "cell_type": "code",
   "execution_count": 1,
   "id": "060db00d",
   "metadata": {},
   "outputs": [
    {
     "name": "stdout",
     "output_type": "stream",
     "text": [
      "Hubs-attracting Laplacian matrix L_A:\n",
      "[[ 1.66666667 -0.66666667 -0.66666667 -0.33333333]\n",
      " [-1.5         2.5        -1.          0.        ]\n",
      " [-1.5        -1.          2.5         0.        ]\n",
      " [-3.          0.          0.          3.        ]]\n",
      "Laplacian matrix L\n",
      "[[ 3 -1 -1 -1]\n",
      " [-1  2 -1  0]\n",
      " [-1 -1  2  0]\n",
      " [-1  0  0  1]]\n",
      "Hubs-repelling Laplacian matrix L_R:\n",
      "[[ 6.         -1.5        -1.5        -3.        ]\n",
      " [-0.66666667  1.66666667 -1.          0.        ]\n",
      " [-0.66666667 -1.          1.66666667  0.        ]\n",
      " [-0.33333333  0.          0.          0.33333333]]\n"
     ]
    }
   ],
   "source": [
    "import operators as op\n",
    "import numpy as np\n",
    "\n",
    "#adj = np.array([[0, 1, 0, 0],[1, 0, 1, 0],[0, 1, 0, 1],[0, 0, 1, 0]])\n",
    "adj = np.array([[0, 1, 1, 1],\n",
    "                [1, 0, 1, 0],\n",
    "                [1, 1, 0, 0],\n",
    "                [1, 0, 0, 0]])              \n",
    "\n",
    "L_R = op.compute_laplacian(adj,1)\n",
    "L_A = op.compute_laplacian(adj,-1)\n",
    "L = op.compute_laplacian(adj,0)\n",
    "\n",
    "print(\"Hubs-attracting Laplacian matrix L_A:\")\n",
    "print(L_A)\n",
    "\n",
    "print(\"Laplacian matrix L\")\n",
    "print(L)\n",
    "\n",
    "print(\"Hubs-repelling Laplacian matrix L_R:\")\n",
    "print(L_R)\n"
   ]
  },
  {
   "cell_type": "code",
   "execution_count": null,
   "id": "08c7d7da",
   "metadata": {},
   "outputs": [],
   "source": []
  }
 ],
 "metadata": {
  "kernelspec": {
   "display_name": "CS4350",
   "language": "python",
   "name": "python3"
  },
  "language_info": {
   "codemirror_mode": {
    "name": "ipython",
    "version": 3
   },
   "file_extension": ".py",
   "mimetype": "text/x-python",
   "name": "python",
   "nbconvert_exporter": "python",
   "pygments_lexer": "ipython3",
   "version": "3.10.13"
  }
 },
 "nbformat": 4,
 "nbformat_minor": 5
}
